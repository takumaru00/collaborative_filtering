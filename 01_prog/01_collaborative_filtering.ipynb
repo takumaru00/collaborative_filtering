{
 "cells": [
  {
   "cell_type": "markdown",
   "metadata": {},
   "source": [
    "# 協調フィルタリングお試し"
   ]
  },
  {
   "cell_type": "raw",
   "metadata": {},
   "source": [
    "Reference\n",
    "https://qiita.com/hik0107/items/96c483afd6fb2f077985"
   ]
  },
  {
   "cell_type": "code",
   "execution_count": 57,
   "metadata": {},
   "outputs": [],
   "source": [
    "import math\n",
    "from math import *"
   ]
  },
  {
   "cell_type": "code",
   "execution_count": 8,
   "metadata": {},
   "outputs": [],
   "source": [
    "## データ\n",
    "dataset={\n",
    " 'Lisa Rose': {\n",
    " 'Lady in the Water': 2.5, 'Snakes on a Plane': 3.5, 'Just My Luck': 3.0, 'Superman Returns': 3.5,'You, Me and Dupree': 2.5, 'The Night Listener': 3.0\n",
    "  },\n",
    " 'Gene Seymour': {\n",
    " 'Lady in the Water': 3.0, 'Snakes on a Plane': 3.5, 'Just My Luck': 1.5, 'Superman Returns': 5.0, 'The Night Listener': 3.0, 'You, Me and Dupree': 3.5\n",
    "  },\n",
    " 'Michael Phillips': {\n",
    " 'Lady in the Water': 2.5, 'Snakes on a Plane': 3.0, 'Superman Returns': 3.5, 'The Night Listener': 4.0\n",
    "  },\n",
    " 'Claudia Puig': {\n",
    " 'Snakes on a Plane': 3.5, 'Just My Luck': 3.0, 'The Night Listener': 4.5, 'Superman Returns': 4.0, 'You, Me and Dupree': 2.5\n",
    "  },\n",
    " 'Mick LaSalle': {\n",
    " 'Lady in the Water': 3.0, 'Snakes on a Plane': 4.0, 'Just My Luck': 2.0, 'Superman Returns': 3.0, 'The Night Listener': 3.0, 'You, Me and Dupree': 2.0\n",
    "  },\n",
    " 'Jack Matthews': {\n",
    " 'Lady in the Water': 3.0, 'Snakes on a Plane': 4.0, 'The Night Listener': 3.0, 'Superman Returns': 5.0, 'You, Me and Dupree': 3.5\n",
    "  },\n",
    " 'Toby': {\n",
    " 'Snakes on a Plane':4.5, 'You, Me and Dupree':1.0, 'Superman Returns':4.0\n",
    "  }\n",
    "}"
   ]
  },
  {
   "cell_type": "code",
   "execution_count": 13,
   "metadata": {},
   "outputs": [
    {
     "data": {
      "text/plain": [
       "dict_keys(['Lisa Rose', 'Gene Seymour', 'Michael Phillips', 'Claudia Puig', 'Mick LaSalle', 'Jack Matthews', 'Toby'])"
      ]
     },
     "execution_count": 13,
     "metadata": {},
     "output_type": "execute_result"
    }
   ],
   "source": [
    "dataset.keys()"
   ]
  },
  {
   "cell_type": "code",
   "execution_count": 18,
   "metadata": {},
   "outputs": [],
   "source": [
    "## 類似度算出関数\n",
    "\n",
    "# 設計者の思惑によって無数の定義があり得る。今回は以下のように設計\n",
    "# 1つも共通の映画がなければ、類似度は0\n",
    "# 共通した映画があれば、それらのレビューのユーグリッド距離(√∑(x1i−x2i)^2)を算出\n",
    "# 算出したユーグリッド距離と反比例するように、類似度を設計\n",
    "\n",
    "def get_similairty(person1, person2):\n",
    "\n",
    "  ## 両者とも見た映画の集合を取る\n",
    "  set_person1 = set(dataset[person1].keys())\n",
    "  set_person2 = set(dataset[person2].keys())\n",
    "  set_both = set_person1.intersection(set_person2)\n",
    "\n",
    "  if len(set_both)==0: #共通でみた映画がない場合は類似度を0とする\n",
    "    return 0\n",
    "\n",
    "  list_distance = []\n",
    "\n",
    "  for item in set_both:\n",
    "    # 同じ映画のレビュー点の差の2乗を計算\n",
    "    # この数値が大きいほど「気が合わない」=「似ていない」と定義できる \n",
    "    distance = pow(dataset[person1][item]-dataset[person2][item], 2) \n",
    "    list_distance.append(distance)\n",
    "\n",
    "  return 1/(1+sqrt(sum(list_distance))) #各映画の気の合わなさの合計の逆比的な指標を返す"
   ]
  },
  {
   "cell_type": "code",
   "execution_count": 19,
   "metadata": {},
   "outputs": [
    {
     "data": {
      "text/plain": [
       "0.3483314773547883"
      ]
     },
     "execution_count": 19,
     "metadata": {},
     "output_type": "execute_result"
    }
   ],
   "source": [
    "get_similairty('Lisa Rose', 'Toby')"
   ]
  },
  {
   "cell_type": "code",
   "execution_count": 70,
   "metadata": {},
   "outputs": [],
   "source": [
    "## レコメンド関数\n",
    "\n",
    "def get_recommend(person, top_N):\n",
    "\n",
    "    #推薦度スコアを入れるための箱を作っておく\n",
    "    totals = {}\n",
    "    simSums = {}\n",
    "\n",
    "    # 自分以外のユーザのリストを取得してFor文を回す\n",
    "    # -> 各人との類似度、及び各人からの（まだ本人が見てない）映画の推薦スコアを計算するため\n",
    "    list_others = list(dataset.keys())\n",
    "    list_others.remove(person)\n",
    "    \n",
    "\n",
    "    for other in list_others:\n",
    "        # 本人がまだ見たことが無い映画の集合を取得\n",
    "        set_other = set(dataset[other])\n",
    "        set_person = set(dataset[person])\n",
    "        set_new_movie = set_other.difference(set_person)\n",
    "        \n",
    "        # あるユーザと本人の類似度を計算(simは0~1の数字)\n",
    "        sim = get_similairty(person, other)\n",
    "\n",
    "        # (本人がまだ見たことがない)映画のリストでFor分を回す\n",
    "        for item in set_new_movie:\n",
    "          # \"類似度 x レビュー点数\" を推薦度のスコアとして、全ユーザで足し上げる\n",
    "          totals.setdefault(item,0)\n",
    "          totals[item] += dataset[other][item]*sim \n",
    "\n",
    "          # ユーザの類似度の積算値をとっておき、これで上記のスコアを除する\n",
    "            # 割らないと、見てる人が多い映画をレコメンドするだけになっちゃうから?\n",
    "          simSums.setdefault(item,0)\n",
    "          simSums[item] += sim\n",
    "\n",
    "    rankings = [(total/simSums[item],item) for item,total in totals.items()]\n",
    "    rankings.sort()\n",
    "    rankings.reverse()\n",
    "    \n",
    "    \n",
    "    print(\"{person} has {cnt} recomendation items\".format(person=person, cnt=len(rankings)) )\n",
    "\n",
    "    return [i[1] for i in rankings][:top_N]"
   ]
  },
  {
   "cell_type": "code",
   "execution_count": 71,
   "metadata": {},
   "outputs": [
    {
     "data": {
      "text/plain": [
       "dict_keys(['Lisa Rose', 'Gene Seymour', 'Michael Phillips', 'Claudia Puig', 'Mick LaSalle', 'Jack Matthews', 'Toby'])"
      ]
     },
     "execution_count": 71,
     "metadata": {},
     "output_type": "execute_result"
    }
   ],
   "source": [
    "dataset.keys()"
   ]
  },
  {
   "cell_type": "code",
   "execution_count": 79,
   "metadata": {},
   "outputs": [
    {
     "name": "stdout",
     "output_type": "stream",
     "text": [
      "Michael Phillips has 2 recomendation items\n"
     ]
    },
    {
     "data": {
      "text/plain": [
       "['Just My Luck', 'You, Me and Dupree']"
      ]
     },
     "execution_count": 79,
     "metadata": {},
     "output_type": "execute_result"
    }
   ],
   "source": [
    "get_recommend('Michael Phillips',5)"
   ]
  },
  {
   "cell_type": "code",
   "execution_count": null,
   "metadata": {},
   "outputs": [],
   "source": []
  }
 ],
 "metadata": {
  "kernelspec": {
   "display_name": "Python 3",
   "language": "python",
   "name": "python3"
  },
  "language_info": {
   "codemirror_mode": {
    "name": "ipython",
    "version": 3
   },
   "file_extension": ".py",
   "mimetype": "text/x-python",
   "name": "python",
   "nbconvert_exporter": "python",
   "pygments_lexer": "ipython3",
   "version": "3.7.3"
  }
 },
 "nbformat": 4,
 "nbformat_minor": 2
}
